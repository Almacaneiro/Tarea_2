{
 "cells": [
  {
   "cell_type": "markdown",
   "metadata": {},
   "source": [
    "<img style=\"float:left\" width=\"70%\" src=\"pics/escudo_COLOR_1L_DCHA.png\">\n",
    "<img style=\"float:right\" width=\"15%\" src=\"pics/PythonLogo.svg\">\n",
    "<br style=\"clear:both;\">\n",
    "\n",
    "# Fundamentos de Programación\n",
    "\n",
    "<h2 style=\"display: inline-block; padding: 4mm; padding-left: 2em; background-color: navy; line-height: 1.3em; color: white; border-radius: 10px;\">Práctica 1: Índices antropométricos</h2>\n",
    "\n",
    "### Docente\n",
    "\n",
    " - José Francisco Díez Pastor\n",
    "\n",
    "### Alumnos\n",
    "\n",
    "**JUNCAL ARIJA DEL OLMO**\n",
    "\n",
    "\n",
    "**Aclaraciones**\n",
    "- Un equipo puede ser de 1 ó 2 personas.\n",
    "- No poner el nombre equivale a NO PRESENTADO."
   ]
  },
  {
   "cell_type": "markdown",
   "metadata": {},
   "source": [
    "### Instrucciones\n",
    "Completa los ejercicios de la práctica utilizando todos los elementos vistos en la asignatura. Los criterios de evaluación de cada ejercicio son:\n",
    "\n",
    "- **Bien:**\n",
    "    - La solución es correcta, utilizando de forma debida los conceptos explicados en la asignatura.\n",
    "    - La solución es robusta, puede resolver el problema planteado y otros similares modificando los datos de entrada.\n",
    "    - El código es claro y está estructurado, sin código sin sentido.\n",
    "    - El código está correctamente comentado, explicando lo que realiza el programa de forma corta y clara.\n",
    "- **Regular:**\n",
    "    - La solución es parcialmente correcta.\n",
    "    - La solución tiene algún error que no permite resolver el problema planteado u otros similares modificando los datos de entrada.\n",
    "    - El código no tiene una estructura clara, existe código que no realiza ninguna función útil.\n",
    "    - El código es poco legible, cuesta de seguir y de entender.\n",
    "    - El código está vagamente comentado, sin explicar correctamente las partes del programa.\n",
    "- **Mal:**\n",
    "    - La solución no resuelve el problema planteado.\n",
    "    - La solución tiene tantos errores que no se puede llegar a ejecutar.\n",
    "    - No existe ningún comentario de código que explique el código.\n",
    "\n",
    "PD: Cuando se pide comentar el código, es comentar el código Python (usando comentarios de una línea con «#» o de varias líneas con «'''») no Markdown.\n",
    "\n",
    "### Entrega\n",
    "Para realizar la entrega de la práctica tenéis que crear un comprimido con el notebook y la carpeta de imágenes, y darle el nombre de: `P1_indices_Nombre1_Apellidos1_Nombre2_Apellidos2.zip`, si realizáis la práctica de manera individual poned solo hasta Apellidos1.\n",
    "\n",
    "Subid el comprimido, dentro del plazo estimado, un solo componente del equipo.\n",
    "\n",
    "### Corrección\n",
    "A lo largo de la práctica, para cada ejercicio se proporciona una posible solución. \n",
    "\n",
    "Se podrá solicitar una defensa presencial de la práctica si el código no está debidamente comentado, si se encuentran indicios de copia o de uso de herramientas ilegítimas para el desarrollo de la práctica. Está totalmente prohibido usar Inteligencias Artifiales generativas para resolver las prácticas.\n",
    "\n",
    "#### Comentarios adicionales\n",
    "\n",
    "1. Hay herramientas para detectar código copiado que funcionan incluso si se ha alterado el orden de las expresiones, se ha cambiado el nombre de las variables o se ha realizado cualquier otro intento de ocultamiento.\n",
    "\n",
    "2. Hay que realizar un \"exámen de prácticas\", si no se supera el exámen de prácticas, la nota de prácticas es NO PRESENTADO, así que tiene más sentido dedicar tiempo a hacer las prácticas, aprender a programar y luego hacer un examen que va a tener ejercicios muy similares a los de la práctica, que hacer la práctica con Inteligencia artificial y luego \"probar suerte\" en el exámen. A programar solo se aprende programando."
   ]
  },
  {
   "cell_type": "markdown",
   "metadata": {},
   "source": [
    "## Tabla de contenidos: <a id=\"index\"></a>&nbsp;&nbsp;<a href=\"#index\"><i class=\"fa fa-list-alt\" aria-hidden=\"true\"></i></a>\n",
    "\n",
    "1. [Explicación de las fórmulas. Markdown. **(0.5 Punto)**](#ejercicio1)\n",
    "2. [Cálculo de índices básicos. **(0.5 Puntos)**](#ejercicio2)\n",
    "3. [Cálcula varios. **(1 Puntos)**](#ejercicio3)\n",
    "4. [Clasifica según IMC. **(1.5 Puntos)**](#ejercicio4)\n",
    "5. [Crea funciones. **(1.5 Puntos)**](#ejercicio5)\n",
    "6. [Procesar varios pacientes. **(1 Puntos)**](#ejercicio6)\n",
    "7. [Consulta datos **(2 Puntos)**](#ejercicio7)\n",
    "8. [Actualizar datos de pacientes **(2 Puntos)**](#ejercicio8)"
   ]
  },
  {
   "cell_type": "markdown",
   "metadata": {},
   "source": [
    "## 1. Explicación de las fórmulas. Markdown (0.5 Puntos). <a id=\"ejercicio1\"></a>&nbsp;&nbsp;<a href=\"#index\"><i class=\"fa fa-list-alt\" aria-hidden=\"true\"></i></a>"
   ]
  },
  {
   "cell_type": "markdown",
   "metadata": {},
   "source": [
    "<img style=\"float:center\" width=\"100%\" src=\"pics/markdown.png\">"
   ]
  },
  {
   "cell_type": "markdown",
   "metadata": {},
   "source": [
    "Reproduce con markdown el contenido de la celda anterior\n",
    "\n",
    "-----------\n",
    "\n",
    "**Escribe aquí tu solución.**\n",
    "\n",
    "El __IMC__ se calcula con la fórmula: $$IMC = \\frac{\\text{Peso (kg)}}{\\text{Altura (m)}^2} $$\n",
    "\n",
    "|__Categoría__ | __IMC Hombres__ | __IMC Mujeres__ |\n",
    "|--------------|-----------------|-----------------|\n",
    "|Peso bajo     |     <20.0       |     <18.5       |\n",
    "|Normal        | 20.0 - 25.0     | 18.5 - 25.0     |\n",
    "|Sobrepeso     | 25.1 - 29.9     | 25.1 - 29.9     |\n",
    "|Obesidad      |    ≥ 30.0       |     ≥ 30.0      |\n",
    "\n",
    "El __Índice Cintura-Cadera(ICC)__ mide la distribución de grasa en el abdomen y caderas. Se calcula con:\n",
    "$$ ICC = \\frac{\\text{Circunferencia de la cintura (cm)}}{\\text{Circunferencia de la cadera (cm)}} $$\n",
    "\n",
    "|__Categoría__ | __ICC Hombres__ | __ICC Mujeres__ |\n",
    "|--------------|-----------------|-----------------|\n",
    "|Bajo          |     <0.90       |     <0.80       |\n",
    "|Moderado      | 0.90 - 0.99     | 0.80 - 0.84     |\n",
    "|Alto          |    ≥ 1.0        |     ≥ 0.85      |\n",
    "\n",
    "\n"
   ]
  },
  {
   "cell_type": "markdown",
   "metadata": {},
   "source": [
    "## 2. Cálculo de índices básicos. **(0.5 Puntos)**. <a id=\"ejercicio2\"></a>&nbsp;&nbsp;<a href=\"#index\"><i class=\"fa fa-list-alt\" aria-hidden=\"true\"></i></a>"
   ]
  },
  {
   "cell_type": "markdown",
   "metadata": {},
   "source": [
    "En este ejercicio se van a calcular los valores de los índices para dos pacientes de los que tenemos sus datos guardados en variables.\n",
    "\n",
    "Y posteriormente se va a hacer un código que pida los datos al usuario con `input`. "
   ]
  },
  {
   "cell_type": "code",
   "execution_count": 1,
   "metadata": {
    "scrolled": true
   },
   "outputs": [
    {
     "name": "stdout",
     "output_type": "stream",
     "text": [
      "Resultados del paciente 1: IMC 24.691358024691358, ICC 0.8888888888888888\n",
      "Resultados del paciente 2: IMC 23.437499999999996, ICC 0.7647058823529411\n",
      "El IMC máximo es 24.691358024691358, el mínimo 23.437499999999996\n"
     ]
    }
   ],
   "source": [
    "peso1 = 80\n",
    "peso2 = 60\n",
    "\n",
    "altura1, altura2 = 180, 160 # Es equivalente a declarar cada variable en una línea distinta.\n",
    "ccintura1, ccintura2 = 80, 65\n",
    "ccadera1, ccadera2 = 90, 85\n",
    "\n",
    "#Completar aquí\n",
    "IMC_paciente1 = (peso1/((altura1/100)*(altura1/100))) #dividimos la altura entre 100 porque queremos metros.\n",
    "\n",
    "IMC_paciente2 = (peso2/((altura2/100)**2)) #no serían necesarios los paréntesis porque la potencia tiene preferencia\n",
    "\n",
    "ICC_paciente1 = ccintura1/ccadera1\n",
    "\n",
    "ICC_paciente2 = ccintura2/ccadera2\n",
    "\n",
    "IMC_max = max(IMC_paciente1, IMC_paciente2)\n",
    "\n",
    "IMC_min = min(IMC_paciente2, IMC_paciente2)\n",
    "\n",
    "print(f\"Resultados del paciente 1: IMC {IMC_paciente1}, ICC {ICC_paciente1}\")\n",
    "print(f\"Resultados del paciente 2: IMC {IMC_paciente2}, ICC {ICC_paciente2}\")\n",
    "print(f\"El IMC máximo es {IMC_max}, el mínimo {IMC_min}\")\n"
   ]
  },
  {
   "cell_type": "markdown",
   "metadata": {},
   "source": [
    "Al finalizar el ejercicios se debería de mostrar:\n",
    "    \n",
    "```\n",
    "Resultados del paciente 1: IMC 24.691358024691358, ICC 0.8888888888888888\n",
    "Resultados del paciente 2: IMC 23.437499999999996, ICC 0.7647058823529411\n",
    "El IMC máximo es 24.691358024691358, el minimo 23.437499999999996\n",
    "```"
   ]
  },
  {
   "cell_type": "markdown",
   "metadata": {},
   "source": [
    "Utiliza `input` para recoger datos por el teclado y hacer posteriormente los calculos.\n",
    "\n",
    "Si el usuario introduce `80` y `1.83` debería mostrar lo siguiente:\n",
    "```\n",
    "Introduce el peso en Kgs 80\n",
    "Introduce la altura en metros 1.83\n",
    "El IMC es 23.888440980620498\n",
    "```"
   ]
  },
  {
   "cell_type": "code",
   "execution_count": 2,
   "metadata": {},
   "outputs": [
    {
     "name": "stdout",
     "output_type": "stream",
     "text": [
      "Introduce el peso en Kgs: 80\n",
      "Introduce la altura en metros: 1.83\n",
      "El IMC es 23.888440980620498\n"
     ]
    }
   ],
   "source": [
    "#Completar aquí\n",
    "\n",
    "tu_peso = int(input(\"Introduce el peso en Kgs: \"))\n",
    "tu_altura = float(input(\"Introduce la altura en metros: \"))\n",
    "\n",
    "IMC = tu_peso/tu_altura**2\n",
    "\n",
    "print(f\"El IMC es {IMC}\")\n"
   ]
  },
  {
   "cell_type": "markdown",
   "metadata": {},
   "source": [
    "## 3. Cálcula varios. **(1 Puntos)**. <a id=\"ejercicio3\"></a>&nbsp;&nbsp;<a href=\"#index\"><i class=\"fa fa-list-alt\" aria-hidden=\"true\"></i></a>\n",
    "\n",
    "Tenemos los datos de varios pacientes almacenados en una lista.\n",
    "Los datos de cada paciente son a su vez una lista, en esa lista el primer elemento es el peso, el segundo la altura, el tercero es la circunferencia de la cintura y el último elemento es la circunferencia de la cadera.\n",
    "\n",
    "Recorre la lista de pacientes, utilizando un bucle `for` y muestra los índices para cada uno de los pacientes.\n",
    "\n",
    "\n",
    "Resultado esperado:\n",
    "```\n",
    "Resultados del paciente 0: IMC 24.69, ICC 0.89\n",
    "Resultados del paciente 1: IMC 23.44, ICC 0.76\n",
    "Resultados del paciente 2: IMC 24.05, ICC 0.94\n",
    "Resultados del paciente 3: IMC 27.06, ICC 0.83\n",
    "Resultados del paciente 4: IMC 22.71, ICC 0.88\n",
    "Resultados del paciente 5: IMC 22.22, ICC 0.68\n",
    "```\n",
    "\n",
    "Puedes redondear con la función `round`."
   ]
  },
  {
   "cell_type": "code",
   "execution_count": 3,
   "metadata": {},
   "outputs": [],
   "source": [
    "pacientes = [(80,180,80,90),(60,160,65,85),\n",
    "             (85,188,75,80),(65,155,75,90),\n",
    "             (82,190,70,80),(50,150,60,88)\n",
    "            ]"
   ]
  },
  {
   "cell_type": "code",
   "execution_count": 4,
   "metadata": {},
   "outputs": [
    {
     "name": "stdout",
     "output_type": "stream",
     "text": [
      "Resultados del paciente 0: IMC 24.69, ICC 0.89\n",
      "Resultados del paciente 1: IMC 23.44, ICC 0.76\n",
      "Resultados del paciente 2: IMC 24.05, ICC 0.94\n",
      "Resultados del paciente 3: IMC 27.06, ICC 0.83\n",
      "Resultados del paciente 4: IMC 22.71, ICC 0.88\n",
      "Resultados del paciente 5: IMC 22.22, ICC 0.68\n"
     ]
    },
    {
     "data": {
      "text/plain": [
       "' \\npacientes_imc = [round((i[0]/(i[1]/100)**2), 2) for i in pacientes]\\n\\npacientes_icc = [round(i[2]/i[3], 2) for i in pacientes]\\n\\nprint(f\" Resultados del paciente 0: IMC {pacientes_imc[0]}, ICC {pacientes_icc[0]}\")\\nprint(f\" Resultados del paciente 1: IMC {pacientes_imc[1]}, ICC {pacientes_icc[1]}\")\\nprint(f\" Resultados del paciente 2: IMC {pacientes_imc[2]}, ICC {pacientes_icc[2]}\")\\nprint(f\" Resultados del paciente 3: IMC {pacientes_imc[3]}, ICC {pacientes_icc[3]}\")\\nprint(f\" Resultados del paciente 4: IMC {pacientes_imc[4]}, ICC {pacientes_icc[4]}\")\\nprint(f\" Resultados del paciente 5: IMC {pacientes_imc[5]}, ICC {pacientes_icc[5]}\")\\n'"
      ]
     },
     "execution_count": 4,
     "metadata": {},
     "output_type": "execute_result"
    }
   ],
   "source": [
    "#Completar aquí\n",
    "\n",
    "for i, (peso, altura, cintura, cadera) in enumerate(pacientes): #bucle que recorre la lista pacientes\n",
    "    pacientes_imc = round((peso/(altura/100)**2), 2)\n",
    "    pacientes_icc = round(cintura/cadera, 2)\n",
    "    \n",
    "    print(f\"Resultados del paciente {i}: IMC {pacientes_imc}, ICC {pacientes_icc}\")\n",
    "    \n",
    "''' \n",
    "pacientes_imc = [round((i[0]/(i[1]/100)**2), 2) for i in pacientes]\n",
    "\n",
    "pacientes_icc = [round(i[2]/i[3], 2) for i in pacientes]\n",
    "\n",
    "print(f\" Resultados del paciente 0: IMC {pacientes_imc[0]}, ICC {pacientes_icc[0]}\")\n",
    "print(f\" Resultados del paciente 1: IMC {pacientes_imc[1]}, ICC {pacientes_icc[1]}\")\n",
    "print(f\" Resultados del paciente 2: IMC {pacientes_imc[2]}, ICC {pacientes_icc[2]}\")\n",
    "print(f\" Resultados del paciente 3: IMC {pacientes_imc[3]}, ICC {pacientes_icc[3]}\")\n",
    "print(f\" Resultados del paciente 4: IMC {pacientes_imc[4]}, ICC {pacientes_icc[4]}\")\n",
    "print(f\" Resultados del paciente 5: IMC {pacientes_imc[5]}, ICC {pacientes_icc[5]}\")\n",
    "'''\n",
    "\n",
    "# La parte comentada es otra forma más larga de hacer el ejercicio que hize a principio de curso,\n",
    "# pero al final, al haber visto más cosas encontré otra forma más corta y rápida.\n",
    "\n",
    "    "
   ]
  },
  {
   "cell_type": "markdown",
   "metadata": {},
   "source": [
    "## 4. Clasifica según IMC. **(1.5 Puntos)**. <a id=\"ejercicio4\"></a>&nbsp;&nbsp;<a href=\"#index\"><i class=\"fa fa-list-alt\" aria-hidden=\"true\"></i></a>\n"
   ]
  },
  {
   "cell_type": "markdown",
   "metadata": {},
   "source": [
    "De acuerdo a las tablas mostradas en la tarea 1, según el valor del IMC puede categorizar a una persona en peso bajo, normal, sobrepeso u obesidad.\n",
    "\n",
    "Esta vez tenemos una lista de pacientes, en la que cada paciente tiene 5 valores en lugar de 4 como antes. El primer elemento de cada lista de pacientes es el sexo (H es Hombre, M es Mujer).\n",
    "\n",
    "Queremos calcular la clasificación según el IMC para cada uno de los pacientes. Vamos a descomponer la tarea en dos pasos:\n",
    "1. Recorre la nueva lista de pacientes, a partir de ella vamos a obtener una lista llamada `sexo_imcs` con los valores de Sexo, IMC. Son los valores que se necesitan para obtener la clasificación.\n",
    "2. Recorre la lista `sexo_imcs` y utiliza los valores para calcular la clase correspondiente."
   ]
  },
  {
   "cell_type": "markdown",
   "metadata": {},
   "source": [
    "Primer paso. Recorre la lista paciente y añade valores a la lista indices.\n",
    "\n",
    "\n",
    "```Python\n",
    "print(sexo_imcs)\n",
    "```\n",
    "\n",
    "```\n",
    "[('H', 26.23), ('M', 18.37), ('H', 24.05), ('M', 30.67), ('H', 19.46), ('M', 19.11)]\n",
    "```"
   ]
  },
  {
   "cell_type": "code",
   "execution_count": 5,
   "metadata": {},
   "outputs": [
    {
     "name": "stdout",
     "output_type": "stream",
     "text": [
      "[('H', 26.23), ('M', 18.37), ('H', 24.05), ('M', 30.67), ('H', 19.46), ('M', 19.11)]\n"
     ]
    },
    {
     "data": {
      "text/plain": [
       "' También lo podríamos haber hecho en una sola linea:\\nsexo_imcs = [[i[0], round((i[1]/i[2]**2)*10000, 2)] for i in pacientes_nuevos]\\n'"
      ]
     },
     "execution_count": 5,
     "metadata": {},
     "output_type": "execute_result"
    }
   ],
   "source": [
    "pacientes_nuevos = [(\"H\",85,180,80,90),(\"M\",50,165,65,85),\n",
    "             (\"H\",85,188,75,80),(\"M\",69,150,75,90),\n",
    "             (\"H\",74,195,70,80),(\"M\",43,150,60,88)\n",
    "            ]\n",
    "\n",
    "sexo_imcs = []\n",
    "#Completar aquí\n",
    "for sexo, peso, altura, cintura, cadera in pacientes_nuevos:\n",
    "    imc = round(peso/((altura/100)**2),2)\n",
    "    sexo_imcs.append((sexo, imc)) #añade a la lista vacía los datos del sexo y IMC de cada paciente\n",
    "    \n",
    "# Comprobar el resultado    \n",
    "print(sexo_imcs)\n",
    "\n",
    "''' También lo podríamos haber hecho en una sola linea:\n",
    "sexo_imcs = [[i[0], round((i[1]/i[2]**2)*10000, 2)] for i in pacientes_nuevos]\n",
    "'''\n"
   ]
  },
  {
   "cell_type": "markdown",
   "metadata": {},
   "source": [
    "Recorre la lista `sexo_imcs` sabiendo que el primer valor es el sexo y el segundo IMC y muestra la clasificación para cada uno de esos valores usando las comparaciones definidas en las tablas de la tarea 1.\n",
    "\n",
    "\n",
    "Resultado esperado:\n",
    "```\n",
    "Paciente 0 Sobrepeso\n",
    "Paciente 1 Peso bajo\n",
    "Paciente 1 Normal\n",
    "Paciente 2 Normal\n",
    "Paciente 3 Obesidad\n",
    "Paciente 4 Peso bajo\n",
    "Paciente 5 Normal\n",
    "```"
   ]
  },
  {
   "cell_type": "code",
   "execution_count": 7,
   "metadata": {},
   "outputs": [
    {
     "name": "stdout",
     "output_type": "stream",
     "text": [
      "Paciente 0 Sobrepeso\n",
      "Paciente 1 Peso bajo\n",
      "Paciente 2 Normal\n",
      "Paciente 3 Obesidad\n",
      "Paciente 4 Peso bajo\n",
      "Paciente 5 Normal\n"
     ]
    }
   ],
   "source": [
    "#Completar aquí\n",
    "\n",
    "categoria = \"\"\n",
    "for i, (sexo, IMC) in enumerate(sexo_imcs):\n",
    "    if sexo ==\"M\":\n",
    "        if IMC < 18.5:\n",
    "            categoria = \"Peso bajo\"\n",
    "        elif 18.5 <= IMC <= 25.0:\n",
    "            categoria = \"Normal\"\n",
    "        elif 25.1 <= IMC <=29.9:\n",
    "            categoria = \"Sobrepeso\"\n",
    "        else:\n",
    "            categoria = \"Obesidad\"\n",
    "    else:\n",
    "        if IMC < 20.0:\n",
    "            categoria = \"Peso bajo\"\n",
    "        elif 20.0 <= IMC <= 25.0:\n",
    "            categoria = \"Normal\"\n",
    "        elif 25.1 <= IMC <=29.9:\n",
    "            categoria = \"Sobrepeso\"\n",
    "        else:\n",
    "            categoria = \"Obesidad\"\n",
    "            \n",
    "    print(f\"Paciente {i} {categoria}\")\n",
    "    \n",
    "        \n"
   ]
  },
  {
   "cell_type": "markdown",
   "metadata": {},
   "source": [
    "## 5. Crea funciones. **(1.5 Puntos)** <a id=\"ejercicio5\"></a>&nbsp;&nbsp;<a href=\"#index\"><i class=\"fa fa-list-alt\" aria-hidden=\"true\"></i></a>\n",
    "\n",
    "\n",
    "Pista: Las funciones se utilizan para hacer más sencillo el código.\n",
    "    \n",
    "Se definen con la palabra clave def, seguido del nombre de la función, una tupla con parámetros y 2 puntos.\n",
    "En el cuerpo de la función hacemos todas las operaciones que queramos.\n",
    "Podemos devolver valores con return.\n",
    "    \n",
    "```Python\n",
    "def suma(op1, op2):\n",
    "    resultado = op1+op2\n",
    "    return resultado\n",
    "```\n"
   ]
  },
  {
   "cell_type": "markdown",
   "metadata": {},
   "source": [
    "Crea las siguientes funciones:\n",
    "- get_imc. Recibe peso y altura en metros y revuelve el imc\n",
    "- get_icc. Recibe la circunferencia cintura y la circunferencia cadera y devuelve el ICC.\n",
    "- get_clasificación_imc. Recibe sexo e imc y devuelve la clasificación ->\"Peso bajo\", \"Normal\", \"Sobrepeso\", \"Obesidad\".\n",
    "- get_riesgo_icc. Recibe el sexo y el icc y devuelve el riesgo: -> \"Alto\", \"Moderado\", \"Bajo\"."
   ]
  },
  {
   "cell_type": "markdown",
   "metadata": {},
   "source": [
    "```Python\n",
    "print(get_imc(85,1.82))\n",
    "print(get_icc(60,90))\n",
    "print(get_clasificación_imc(\"M\",19))\n",
    "print(get_clasificación_imc(\"h\",19))\n",
    "print(get_clasificación_imc(\"H\",24))\n",
    "print(get_clasificación_imc(\"H\",28))\n",
    "print(get_riesgo_icc(\"H\",0.92))\n",
    "print(get_riesgo_icc(\"h\",0.88))\n",
    "print(get_riesgo_icc(\"M\",0.88))\n",
    "print(get_riesgo_icc(\"m\",0.84))\n",
    "```\n",
    "\n",
    "```\n",
    "25.661152034778407\n",
    "0.6666666666666666\n",
    "Normal\n",
    "Peso bajo\n",
    "Normal\n",
    "Sobrepeso\n",
    "Moderado\n",
    "Bajo\n",
    "Alto\n",
    "Moderado\n",
    "```"
   ]
  },
  {
   "cell_type": "code",
   "execution_count": 3,
   "metadata": {},
   "outputs": [
    {
     "name": "stdout",
     "output_type": "stream",
     "text": [
      "25.661152034778407\n",
      "0.6666666666666666\n",
      "Normal\n",
      "Peso bajo\n",
      "Normal\n",
      "Sobrepeso\n",
      "Moderado\n",
      "Bajo\n",
      "Alto\n",
      "Moderado\n"
     ]
    }
   ],
   "source": [
    "#Completar aquí\n",
    "\n",
    "def get_imc(peso, altura):\n",
    "    '''\n",
    "    Calcula el imc\n",
    "    \n",
    "    Parámetros\n",
    "    ----------\n",
    "    peso : float\n",
    "        peso.\n",
    "    altura : float\n",
    "        altura en metros.\n",
    "    Returns\n",
    "    -------\n",
    "    float : resultado de calcular el imc\n",
    "    '''\n",
    "    return peso / altura**2\n",
    "\n",
    "def get_icc(cintura, cadera):\n",
    "    '''\n",
    "    Calcula el icc\n",
    "    Parámetros\n",
    "    ----------\n",
    "    cintura : float\n",
    "        circunferencia cintura.\n",
    "    cadera : float\n",
    "       circunferencia cadera.\n",
    "    Returns\n",
    "    -------\n",
    "    float : resultado de calcular el icc\n",
    "    '''\n",
    "    return cintura/cadera\n",
    "\n",
    "def get_clasificación_imc(sexo, imc):\n",
    "    '''\n",
    "    Calcula la clasificación del imc\n",
    "    \n",
    "    Parámetros\n",
    "    ----------\n",
    "    sexo : str\n",
    "        sexo.\n",
    "    imc : float\n",
    "       valor del imc.\n",
    "    Returns\n",
    "    -------\n",
    "    string : resultado de la clasificación del imc\n",
    "    '''\n",
    "    sexo = sexo.upper()\n",
    "    if sexo == \"H\":\n",
    "        if imc < 20:\n",
    "            return \"Peso bajo\"\n",
    "        elif 20 <= imc <= 25:\n",
    "            return \"Normal\"\n",
    "        elif 25.1 <= imc <= 29.9:\n",
    "            return \"Sobrepeso\"\n",
    "        else:  \n",
    "            return \"Obesidad\"\n",
    "    \n",
    "    elif sexo == \"M\":\n",
    "        if imc < 18.5:\n",
    "            return \"Peso bajo\"\n",
    "        elif 18.5 <= imc <= 25:\n",
    "            return \"Normal\"\n",
    "        elif 25.1 <= imc <= 29.9:\n",
    "            return \"Sobrepeso\"\n",
    "        else:  \n",
    "            return \"Obesidad\"\n",
    "\n",
    "def get_riesgo_icc(sexo, icc):\n",
    "    '''\n",
    "    Calcula la clasificación del icc\n",
    "    \n",
    "    Parámetros\n",
    "    ----------\n",
    "    sexo : str\n",
    "        sexo.\n",
    "    icc : float\n",
    "       valor del icc.\n",
    "    Returns\n",
    "    -------\n",
    "    string : resultado de la clasificación del icc\n",
    "    '''\n",
    "    sexo = sexo.upper()\n",
    "    if sexo == \"H\":\n",
    "        if icc < 0.90:\n",
    "            return \"Bajo\"\n",
    "        elif 0.90 <= icc <= 0.99:\n",
    "            return \"Moderado\"\n",
    "        else:  \n",
    "            return \"Alto\"\n",
    "    \n",
    "    elif sexo == \"M\":\n",
    "        if icc < 0.80:\n",
    "            return \"Bajo\"\n",
    "        elif 0.80 <= icc <= 0.84:\n",
    "            return \"Moderado\"\n",
    "        else:  \n",
    "            return \"Alto\"\n",
    "        \n",
    "        \n",
    "    \n",
    "        \n",
    "\n",
    "################################# Prueba\n",
    "print(get_imc(85,1.82))\n",
    "print(get_icc(60,90))\n",
    "print(get_clasificación_imc(\"M\",19))\n",
    "print(get_clasificación_imc(\"h\",19))\n",
    "print(get_clasificación_imc(\"H\",24))\n",
    "print(get_clasificación_imc(\"H\",28))\n",
    "print(get_riesgo_icc(\"H\",0.92))\n",
    "print(get_riesgo_icc(\"h\",0.88))\n",
    "print(get_riesgo_icc(\"M\",0.88))\n",
    "print(get_riesgo_icc(\"m\",0.84))\n"
   ]
  },
  {
   "cell_type": "markdown",
   "metadata": {},
   "source": [
    "## 6. Procesar varios pacientes. **(1 Puntos)**. <a id=\"ejercicio6\"></a>&nbsp;&nbsp;<a href=\"#index\"><i class=\"fa fa-list-alt\" aria-hidden=\"true\"></i></a>"
   ]
  },
  {
   "cell_type": "markdown",
   "metadata": {},
   "source": [
    "Tenemos una lista de pacientes.\n",
    "\n",
    "```Python\n",
    "pacientes_nuevos = [(\"H\",85,180,80,90),(\"M\",50,165,65,85),\n",
    "             (\"H\",85,188,75,80),(\"M\",69,150,75,90),\n",
    "             (\"H\",74,195,70,80),(\"M\",43,150,60,88)\n",
    "            ]\n",
    "```\n",
    "\n",
    "Queremos obtener una lista que tenga por cada paciente, su clasificación de acuerdo al IMC y su riesgo de acuerdo al ICC.\n",
    "\n",
    "\n",
    "Salida esperada\n",
    "\n",
    "```Python\n",
    "print(riesgos)\n",
    "\n",
    "```\n",
    "\n",
    "```\n",
    "[('Sobrepeso', 'Bajo'), ('Normal', 'Bajo'), ('Normal', 'Moderado'), ('Obesidad', 'Moderado'), ('Peso bajo', 'Bajo'), ('Normal', 'Bajo')]\n",
    "```\n",
    "\n",
    "**OJO**. La función de `get_imc` funciona en metros y ahora tenemos centimetros."
   ]
  },
  {
   "cell_type": "markdown",
   "metadata": {},
   "source": [
    "Devuelve:\n",
    "```\n",
    "[('Sobrepeso', 'Bajo'), ('Normal', 'Bajo'), ('Normal', 'Moderado'), ('Obesidad', 'Moderado'), ('Peso bajo', 'Bajo'), ('Normal', 'Bajo')]\n",
    "```"
   ]
  },
  {
   "cell_type": "code",
   "execution_count": 8,
   "metadata": {},
   "outputs": [
    {
     "name": "stdout",
     "output_type": "stream",
     "text": [
      "[('Sobrepeso', 'Bajo'), ('Peso bajo', 'Bajo'), ('Normal', 'Moderado'), ('Obesidad', 'Moderado'), ('Peso bajo', 'Bajo'), ('Normal', 'Bajo')]\n"
     ]
    }
   ],
   "source": [
    "pacientes_nuevos = [(\"H\",85,180,80,90),(\"M\",50,165,65,85),\n",
    "             (\"H\",85,188,75,80),(\"M\",69,150,75,90),\n",
    "             (\"H\",74,195,70,80),(\"M\",43,150,60,88)\n",
    "            ]\n",
    "\n",
    "riesgos = []\n",
    "\n",
    "#Completar aquí    \n",
    "for sexo, peso, altura_cm, cintura, cadera in pacientes_nuevos: #recorremos la lista formada por tuplas y usamos las \n",
    "                                                                # funciones creadas anteriormente para hallar las clasificaciones\n",
    "    IMC = get_imc(peso, altura_cm/100)\n",
    "    ICC = get_icc(cintura, cadera)\n",
    "    clasificación_imc = get_clasificación_imc(sexo, IMC)\n",
    "    clasificación_icc = get_riesgo_icc(sexo, ICC)\n",
    "    \n",
    "    riesgos.append((clasificación_imc, clasificación_icc))\n",
    "\n",
    "\n",
    "    \n",
    "print(riesgos)\n",
    "########## "
   ]
  },
  {
   "cell_type": "markdown",
   "metadata": {},
   "source": [
    "## 7. Consulta pacientes. **(2 Puntos)**. <a id=\"ejercicio7\"></a>&nbsp;&nbsp;<a href=\"#index\"><i class=\"fa fa-list-alt\" aria-hidden=\"true\"></i></a>"
   ]
  },
  {
   "cell_type": "markdown",
   "metadata": {},
   "source": [
    "Tenemos una lista de pacientes con nombre.\n",
    "- Por cada paciente tenemos una tupla de 2 elementos.\n",
    "    - El primer elemento es una tupla formada por nombre y sexo.\n",
    "    - El segundo elemento es una tupla formada por peso, altura, circunferencia de cintura y circunferencia de cadera.\n",
    "    \n",
    "Se quieren 2 funciones:\n",
    "- `get_riesgo_alto_icc`. Devuelve todos los nombres de pacientes con riesgo `Alto` según su ICC,\n",
    "- `get_mayor_imc`. Devuelve el nombre del paciente con un mayor IMC.\n",
    "\n",
    "\n",
    "```Python\n",
    "print(get_riesgo_alto_icc(pacientes_con_nombre))\n",
    "print(get_mayor_imc(pacientes_con_nombre))\n",
    "```\n",
    "Devuelve\n",
    "```\n",
    "['Sara', 'Jordi']\n",
    "Rocio\n",
    "\n",
    "```"
   ]
  },
  {
   "cell_type": "code",
   "execution_count": 1,
   "metadata": {},
   "outputs": [],
   "source": [
    "pacientes_con_nombre = [((\"Juan\",\"H\"),(85,180,80,90)),\n",
    "                        ((\"Maria\",\"M\"),(50,165,65,85)),\n",
    "                        ((\"José\",\"H\"),(85,188,75,80)),\n",
    "                        ((\"Rocio\",\"M\"),(69,150,75,90)),\n",
    "                        ((\"Ramón\",\"H\"),(74,195,70,80)),\n",
    "                        ((\"Lucia\",\"M\"),(43,150,70,88)),\n",
    "                        ((\"Sara\",\"M\"),(83,170,80,88)),\n",
    "                        ((\"Jordi\",\"H\"),(90,175,94,90))\n",
    "                       ]"
   ]
  },
  {
   "cell_type": "code",
   "execution_count": 4,
   "metadata": {},
   "outputs": [
    {
     "name": "stdout",
     "output_type": "stream",
     "text": [
      "['Sara', 'Jordi']\n",
      "Rocio\n"
     ]
    }
   ],
   "source": [
    "def get_riesgo_alto_icc(pacientes):\n",
    "    '''\n",
    "    Calcula los pacientes con riesgo alto según su ICC\n",
    "    \n",
    "    Parámetros\n",
    "    ----------\n",
    "    pacientes : list\n",
    "       Lista de tuplas con los datos de los pacientes en el formato:\n",
    "       [((\"Nombre\", \"Sexo\"), (Peso, Altura, Cintura, Cadera)), ...]\n",
    "    Returns\n",
    "    -------\n",
    "    list : Lista con los nombres de los pacientes con alto ICC\n",
    "    '''\n",
    "    nombres = []\n",
    "    #Completar aquí\n",
    "    for (nombre, sexo), (peso, altura, cintura, cadera) in pacientes_con_nombre:\n",
    "        icc = get_icc(cintura, cadera)\n",
    "        if get_riesgo_icc(sexo, icc) == \"Alto\":\n",
    "            nombres.append(nombre)\n",
    "    return nombres\n",
    "\n",
    "\n",
    "def get_mayor_imc(pacientes):\n",
    "    '''\n",
    "    Calcula el paciente con mayor valor de IMC\n",
    "    \n",
    "    Parámetros\n",
    "    ----------\n",
    "    pacientes : list\n",
    "        Lista de tuplas con los datos de los pacientes en el formato:\n",
    "        [((\"Nombre\", \"Sexo\"), (Peso, Altura, Cintura, Cadera)), ...]\n",
    "    \n",
    "    Returns\n",
    "    -------\n",
    "    string : nombre del paciente de la lista con mayor valor de IMC\n",
    "    '''\n",
    "    nombre_mayor = \"\"\n",
    "    #Completar aquí \n",
    "    imc_max = 0\n",
    "    for (nombre, sexo), (peso, altura, cintura, cadera) in pacientes_con_nombre:\n",
    "        imc = get_imc(peso, altura/100) #dividido entre 100 debido a que la altura está en cm\n",
    "        if imc > imc_max:\n",
    "            imc_max = imc\n",
    "            nombre_mayor = nombre\n",
    "    return nombre_mayor\n",
    "\n",
    "\n",
    "\n",
    "\n",
    "    \n",
    "        \n",
    "print(get_riesgo_alto_icc(pacientes_con_nombre))\n",
    "print(get_mayor_imc(pacientes_con_nombre))"
   ]
  },
  {
   "cell_type": "markdown",
   "metadata": {},
   "source": [
    "## 8. Actualiza datos. **(2 Puntos)**. <a id=\"ejercicio8\"></a>&nbsp;&nbsp;<a href=\"#index\"><i class=\"fa fa-list-alt\" aria-hidden=\"true\"></i></a>\n",
    "\n",
    "\n"
   ]
  },
  {
   "cell_type": "markdown",
   "metadata": {},
   "source": [
    "Tenemos una primera lista de pacientes, que esta vez también tienen DNI. Cada paciente es una tupla de dos elementos:\n",
    "- El primer elemento es una tupla formada por nombre, DNI y sexo.\n",
    "- El segundo elemento es una tupla formada por peso, altura, circunferencia de cintura y circunferencia de cadera.\n",
    "\n",
    "Tenemos otra lista de pacientes que vamos a utilizar para actualizar la primera. Por cada paciente:\n",
    "- Si el DNI ya existe en la primera lista, vamos a actualizar los datos en la primera lista.\n",
    "- Si el DNI no existe, vamos a añadir ese paciente en la primera lista.\n",
    "    - Si el DNI no es español (no acaba en letra), es que son pacientes ingleses. Cintura y cadera viene en pulgadas. Peso viene el libras y la altura viene en pies y pulgadas. \n",
    "        - 1 pie -> 12 pulgadas.\n",
    "        - 1 pulgada -> 0.0254 metros.\n",
    "        - 1 Libra -> 0.453592 kilos.\n",
    "        \n",
    "Haz todas las actualizaciones, al finalizar debería quedar lo siguiente:\n",
    "\n",
    "```\n",
    "[(('Juan', '00000001A', 'H'), (80, 180, 78, 90)),\n",
    " (('María', '00000002B', 'M'), (52, 165, 66, 85)),\n",
    " (('José', '00000003C', 'H'), (85, 188, 75, 80)),\n",
    " (('Rocio', '00000004D', 'M'), (69, 150, 75, 90)),\n",
    " (('Ramón', '00000005E', 'H'), (74, 195, 70, 80)),\n",
    " (('Lucia', '00000006F', 'M'), (43, 150, 70, 88)),\n",
    " (('Sara', '00000007G', 'M'), (83, 170, 80, 88)),\n",
    " (('Jordi', '00000008H', 'H'), (90, 175, 94, 90)),\n",
    " (('Manuel', '00000010A', 'H'), (75, 175, 70, 80)),\n",
    " (('John', '123456788', 'H'), (81.64656, 177.8, 91.44, 99.05999999999999)),\n",
    " (('May', '123456789', 'M'), (44.452016, 149.85999999999999, 83.82, 91.44))]\n",
    "```"
   ]
  },
  {
   "cell_type": "code",
   "execution_count": 11,
   "metadata": {},
   "outputs": [
    {
     "name": "stdout",
     "output_type": "stream",
     "text": [
      "True False\n"
     ]
    }
   ],
   "source": [
    "# pista\n",
    "cadena1 = \"0\"\n",
    "cadena2 = \"A\"\n",
    "\n",
    "print(cadena1.isdigit(),cadena2.isdigit())"
   ]
  },
  {
   "cell_type": "code",
   "execution_count": 10,
   "metadata": {},
   "outputs": [],
   "source": [
    "pacientes_con_nombre_nif = [((\"Juan\",\"00000001A\",\"H\"),(85,180,80,90)),\n",
    "                            ((\"Maria\",\"00000002B\",\"M\"),(50,165,65,85)),\n",
    "                            ((\"José\",\"00000003C\",\"H\"),(85,188,75,80)),\n",
    "                            ((\"Rocio\",\"00000004D\",\"M\"),(69,150,75,90)),\n",
    "                            ((\"Ramón\",\"00000005E\",\"H\"),(74,195,70,80)),\n",
    "                            ((\"Lucia\",\"00000006F\",\"M\"),(43,150,70,88)),\n",
    "                            ((\"Sara\",\"00000007G\",\"M\"),(83,170,80,88)),\n",
    "                            ((\"Jordi\",\"00000008H\",\"H\"),(90,175,94,90))\n",
    "                       ]\n",
    "\n",
    "\n",
    "pacientes_con_nombre_nif2 = [((\"Juan\",\"00000001A\",\"H\"),(80,180,78,90)), # cambio peso y cintura\n",
    "                            ((\"María\",\"00000002B\",\"M\"),(52,165,66,85)), # cambio nombre y peso y cintura\n",
    "                            ((\"Manuel\",\"00000010A\",\"H\"),(75,175,70,80)),# Nuevo                             \n",
    "                            ((\"Rocio\",\"00000004D\",\"M\"),(69,150,75,90)), # No actualizar nada\n",
    "                            ((\"John\",\"123456788\",\"H\"),(180,\"5'10'\",36,39)),  # cintura y caderas son pulgadas\n",
    "                            ((\"May\",\"123456789\",\"M\"),(98,\"4'11'\",33,36))    # cintura y caderas son pulgadas\n",
    "                       ]"
   ]
  },
  {
   "cell_type": "code",
   "execution_count": 22,
   "metadata": {},
   "outputs": [
    {
     "name": "stdout",
     "output_type": "stream",
     "text": [
      "[(('Juan', '00000001A', 'H'), (80, 180, 78, 90)), (('María', '00000002B', 'M'), (52, 165, 66, 85)), (('José', '00000003C', 'H'), (85, 188, 75, 80)), (('Rocio', '00000004D', 'M'), (69, 150, 75, 90)), (('Ramón', '00000005E', 'H'), (74, 195, 70, 80)), (('Lucia', '00000006F', 'M'), (43, 150, 70, 88)), (('Sara', '00000007G', 'M'), (83, 170, 80, 88)), (('Jordi', '00000008H', 'H'), (90, 175, 94, 90)), (('Manuel', '00000010A', 'H'), (75, 175, 70, 80)), (('John', '123456788', 'H'), (81.64656, \"5'10'\", 91.44, 99.05999999999999)), (('May', '123456789', 'M'), (44.452016, \"4'11'\", 83.82, 91.44))]\n"
     ]
    }
   ],
   "source": [
    "# Actualiza aquí, usando bucles y condicionales.\n",
    "\n",
    "lista_dnis = [i[0][1] for i in pacientes_con_nombre_nif]\n",
    "\n",
    "for (nombre, dni, sexo), (peso, altura, cintura, cadera) in pacientes_con_nombre_nif2:\n",
    "    if dni in lista_dnis:\n",
    "        posición = lista_dnis.index(dni)\n",
    "        if dni[-1].isdigit():  \n",
    "            peso_k = peso * 0.453592\n",
    "            cintura_m = cintura * 0.0254*100\n",
    "            cadera_m = cadera * 0.0254*100\n",
    "            pacientes_con_nombre_nif[posición] = ((nombre, dni, sexo), (peso_k, altura, cintura_m, cadera_m))\n",
    "        else:  \n",
    "            pacientes_con_nombre_nif[posición] = ((nombre, dni, sexo), (peso, altura, cintura, cadera))\n",
    "            \n",
    "            \n",
    "    else:  \n",
    "        if dni[-1].isdigit():  \n",
    "            peso_k = peso * 0.453592\n",
    "            cintura_m = cintura * 0.0254\n",
    "            cadera_m = cadera * 0.0254\n",
    "            pacientes_con_nombre_nif.append(((nombre, dni, sexo), (peso_k, altura, cintura_m, cadera_m)))\n",
    "        else:\n",
    "            pacientes_con_nombre_nif.append(((nombre, dni, sexo), (peso, altura, cintura, cadera)))\n",
    "\n",
    "# Imprimir la lista final de pacientes\n",
    "print(pacientes_con_nombre_nif)\n",
    " "
   ]
  },
  {
   "cell_type": "code",
   "execution_count": null,
   "metadata": {},
   "outputs": [],
   "source": []
  }
 ],
 "metadata": {
  "kernelspec": {
   "display_name": "Python 3 (ipykernel)",
   "language": "python",
   "name": "python3"
  },
  "language_info": {
   "codemirror_mode": {
    "name": "ipython",
    "version": 3
   },
   "file_extension": ".py",
   "mimetype": "text/x-python",
   "name": "python",
   "nbconvert_exporter": "python",
   "pygments_lexer": "ipython3",
   "version": "3.11.5"
  }
 },
 "nbformat": 4,
 "nbformat_minor": 2
}

print("hola mundo")
